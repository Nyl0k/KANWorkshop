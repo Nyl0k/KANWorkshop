{
 "cells": [
  {
   "cell_type": "markdown",
   "id": "8a777224-8476-4b38-9ab4-f7bb78a5d71c",
   "metadata": {},
   "source": [
    "## PDE Solver Using a KAN\n",
    "\n",
    "Adapting ChebyKAN plus the solver port\n",
    "\n",
    "Importing a few libraries..."
   ]
  },
  {
   "cell_type": "code",
   "execution_count": 9,
   "id": "acea785e-c873-4a5d-a11e-760923415d17",
   "metadata": {},
   "outputs": [],
   "source": [
    "from torch.ao.quantization.quantizer.x86_inductor_quantizer import X86InductorQuantizer\n",
    "from torch.ao.quantization.quantize_pt2e import (\n",
    "  prepare_pt2e,\n",
    "  convert_pt2e,\n",
    ")\n",
    "\n",
    "import matplotlib.pyplot as plt\n",
    "import torch.ao.quantization.quantizer.x86_inductor_quantizer as xiq\n",
    "import torch.nn as nn\n",
    "import torch"
   ]
  },
  {
   "cell_type": "code",
   "execution_count": 2,
   "id": "2fed45f9-da04-4e9c-8e11-0278dd8beaa5",
   "metadata": {},
   "outputs": [],
   "source": [
    "class ChebyKANLayer(nn.Module):\n",
    "    def __init__(self, input_dim, output_dim, degree):\n",
    "        super(ChebyKANLayer, self).__init__()\n",
    "        self.inputdim = input_dim\n",
    "        self.outdim = output_dim\n",
    "        self.degree = degree\n",
    "\n",
    "        self.cheby_coeffs = nn.Parameter(torch.empty(input_dim, output_dim, degree + 1))\n",
    "        nn.init.normal_(self.cheby_coeffs, mean=0.0, std=1/(input_dim * (degree + 1)))\n",
    "\n",
    "    def forward(self, x):\n",
    "        x = torch.reshape(x, (-1, self.inputdim))  # shape = (batch_size, inputdim)\n",
    "        # Since Chebyshev polynomial is defined in [-1, 1]\n",
    "        # We need to normalize x to [-1, 1] using tanh\n",
    "        x = torch.tanh(x)\n",
    "        # Initialize Chebyshev polynomial tensors\n",
    "        cheby = torch.ones(x.shape[0], self.inputdim, self.degree + 1, device=x.device)\n",
    "        if self.degree > 0:\n",
    "            cheby[:, :, 1] = x\n",
    "        for i in range(2, self.degree + 1):\n",
    "            cheby[:, :, i] = 2 * x * cheby[:, :, i - 1].clone() - cheby[:, :, i - 2].clone()\n",
    "        # Compute the Chebyshev interpolation\n",
    "        y = torch.einsum('bid,iod->bo', cheby, self.cheby_coeffs)  # shape = (batch_size, outdim)\n",
    "        y = y.view(-1, self.outdim)\n",
    "        return y"
   ]
  },
  {
   "cell_type": "code",
   "execution_count": 3,
   "id": "bd2cc4b1-8945-4d21-8088-f4d82caf3dae",
   "metadata": {},
   "outputs": [],
   "source": [
    "class ChebyKAN(nn.Module):\n",
    "    def __init__(self):\n",
    "        super(ChebyKAN, self).__init__()\n",
    "        self.chebykan1 = ChebyKANLayer(2, 10, 10)\n",
    "        self.chebykan2 = ChebyKANLayer(10, 10, 10)\n",
    "        self.chebykan3 = ChebyKANLayer(10, 1, 10)\n",
    "\n",
    "    def forward(self, x):\n",
    "        x = self.chebykan1(x)\n",
    "        x = self.chebykan2(x)\n",
    "        x = self.chebykan3(x)\n",
    "        return x"
   ]
  },
  {
   "cell_type": "code",
   "execution_count": 6,
   "id": "3d40f78a-90f5-4020-baa5-86c811fff212",
   "metadata": {},
   "outputs": [
    {
     "data": {
      "text/plain": [
       "<All keys matched successfully>"
      ]
     },
     "execution_count": 6,
     "metadata": {},
     "output_type": "execute_result"
    }
   ],
   "source": [
    "net = ChebyKAN()\n",
    "net.load_state_dict(torch.load(\"./ChebyKANBurgers.pt\", weights_only=True))"
   ]
  },
  {
   "cell_type": "code",
   "execution_count": 35,
   "id": "be0ebae0-4e09-4e0d-bf64-58cccf9a4ea9",
   "metadata": {},
   "outputs": [
    {
     "name": "stdout",
     "output_type": "stream",
     "text": [
      "Device used: cpu\n",
      "Calibration progress: 0%\n",
      "Calibration progress: 10%\n",
      "Calibration progress: 20%\n",
      "Calibration progress: 30%\n",
      "Calibration progress: 40%\n",
      "Calibration progress: 50%\n",
      "Calibration progress: 60%\n",
      "Calibration progress: 70%\n",
      "Calibration progress: 80%\n",
      "Calibration progress: 90%\n",
      "Calibration progress: 100%\n"
     ]
    }
   ],
   "source": [
    "device = torch.device(\"cuda\" if torch.cuda.is_available() else \"cpu\")\n",
    "print(f\"Device used: {device.type}\")\n",
    "\n",
    "#Making this a tuple because otherwise torch yells at me\n",
    "example_inputs = (torch.randn(1000,2).to(device),)\n",
    "exported_model  = torch.export.export_for_training(net, example_inputs).module()\n",
    "\n",
    "quantizer = X86InductorQuantizer()\n",
    "quantizer.set_global(xiq.get_default_x86_inductor_quantization_config())\n",
    "\n",
    "prepared_model = prepare_pt2e(exported_model, quantizer)\n",
    "\n",
    "def calibrate(model, dataset):\n",
    "    torch.ao.quantization.move_exported_model_to_eval(model)\n",
    "    with torch.no_grad():\n",
    "        for i in range(dataset.shape[0]):\n",
    "            model.forward(dataset[i,:])\n",
    "            if not (i % 100):\n",
    "                print(f\"Calibration progress: {int((i/dataset.shape[0])*100)}%\")\n",
    "        print(\"Calibration progress: 100%\")\n",
    "\n",
    "calibrate(prepared_model, example_inputs[0])"
   ]
  },
  {
   "cell_type": "code",
   "execution_count": 37,
   "id": "19c2e22a-ed89-4695-99c0-8c2b927867eb",
   "metadata": {},
   "outputs": [],
   "source": [
    "quantized_model = convert_pt2e(prepared_model)\n",
    "quantized_model = torch.export.export_for_training(quantized_model, example_inputs).module()"
   ]
  },
  {
   "cell_type": "code",
   "execution_count": 39,
   "id": "c211cf0b-ae00-4514-94c9-c75145ab8b43",
   "metadata": {},
   "outputs": [
    {
     "data": {
      "text/plain": [
       "<matplotlib.collections.PathCollection at 0x1f71f623b90>"
      ]
     },
     "execution_count": 39,
     "metadata": {},
     "output_type": "execute_result"
    },
    {
     "data": {
      "image/png": "[encoded data removed]",
      "text/plain": [
       "<Figure size 640x480 with 1 Axes>"
      ]
     },
     "metadata": {},
     "output_type": "display_data"
    }
   ],
   "source": [
    "testLen = 1000\n",
    "\n",
    "TTestVal = 1\n",
    "TTest = torch.tensor([TTestVal for _ in range(testLen)]).unsqueeze(dim=1)\n",
    "XTest = torch.linspace(-1, 1, steps=testLen).unsqueeze(dim=1)\n",
    "XTTest = torch.cat([XTest, TTest], dim=1)\n",
    "\n",
    "UPredTest = quantized_model.forward(XTTest)\n",
    "\n",
    "plt.scatter(XTest.detach(), UPredTest.detach())"
   ]
  },
  {
   "cell_type": "code",
   "execution_count": null,
   "id": "c76d6756-65c9-4a9d-9e38-86e9f57816e6",
   "metadata": {},
   "outputs": [],
   "source": []
  }
 ],
 "metadata": {
  "kernelspec": {
   "display_name": "Python 3 (ipykernel)",
   "language": "python",
   "name": "python3"
  },
  "language_info": {
   "codemirror_mode": {
    "name": "ipython",
    "version": 3
   },
   "file_extension": ".py",
   "mimetype": "text/x-python",
   "name": "python",
   "nbconvert_exporter": "python",
   "pygments_lexer": "ipython3",
   "version": "3.12.5"
  },
  "widgets": {
   "application/vnd.jupyter.widget-state+json": {
    "state": {},
    "version_major": 2,
    "version_minor": 0
   }
  }
 },
 "nbformat": 4,
 "nbformat_minor": 5
}
