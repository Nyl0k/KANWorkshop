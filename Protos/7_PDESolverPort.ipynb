{
 "cells": [
  {
   "cell_type": "markdown",
   "id": "0e1c6d25-a0c5-483c-8c23-262dc7cf557b",
   "metadata": {},
   "source": [
    "## Port of MATLAB PDE solver\n",
    "\n",
    "Trying to see if I can a Burgers' Equation solver to work in Python for later use with KANs\n",
    "\n",
    "Referencing this page https://www.mathworks.com/help/deeplearning/ug/solve-partial-differential-equations-with-lbfgs-method-and-deep-learning.html\n",
    "\n",
    "Importing a few libraries..."
   ]
  },
  {
   "cell_type": "code",
   "execution_count": 1,
   "id": "e8372ef6-3209-475d-8ea5-73656028afdf",
   "metadata": {},
   "outputs": [],
   "source": [
    "import matplotlib.pyplot as plt\n",
    "import torch.nn as nn\n",
    "import torch"
   ]
  },
  {
   "cell_type": "markdown",
   "id": "1db5db19-7138-416b-9fe0-a5d21626dde2",
   "metadata": {},
   "source": [
    "First create some basic evaluation points such as boundary conditions"
   ]
  },
  {
   "cell_type": "code",
   "execution_count": 2,
   "id": "98a4f065-ae93-4f39-8e31-5d748d2e9108",
   "metadata": {},
   "outputs": [
    {
     "name": "stdout",
     "output_type": "stream",
     "text": [
      "torch.Size([1, 100]) torch.Size([1, 100]) torch.Size([1, 100])\n"
     ]
    }
   ],
   "source": [
    "#Establish boundary conditions for x, t, u\n",
    "numBoundaryConditionPoints = [25, 25]\n",
    "\n",
    "x0BC1 = -1*torch.ones(1,numBoundaryConditionPoints[0])\n",
    "x0BC2 = torch.ones(1,numBoundaryConditionPoints[1])\n",
    "\n",
    "t0BC1 = torch.linspace(0,1,steps=numBoundaryConditionPoints[0]).reshape(1, -1)\n",
    "t0BC2 = torch.linspace(0,1,steps=numBoundaryConditionPoints[1]).reshape(1, -1)\n",
    "\n",
    "u0BC1 = torch.zeros(1,numBoundaryConditionPoints[0])\n",
    "u0BC2 = torch.zeros(1,numBoundaryConditionPoints[1])\n",
    "\n",
    "#Estabish iniital conditions\n",
    "numInitialConditionPoints  = 50\n",
    "\n",
    "x0IC = torch.linspace(-1,1,steps=numInitialConditionPoints).reshape(1, -1)\n",
    "t0IC = torch.zeros(1,numInitialConditionPoints)\n",
    "u0IC = -torch.sin(torch.pi*x0IC)\n",
    "\n",
    "X0 = torch.cat([x0IC, x0BC1, x0BC2],dim=1)\n",
    "T0 = torch.cat([t0IC, t0BC1, t0BC2],dim=1)\n",
    "U0 = torch.cat([u0IC, u0BC1, u0BC2],dim=1)\n",
    "\n",
    "print(X0.shape, T0.shape, U0.shape)"
   ]
  },
  {
   "cell_type": "markdown",
   "id": "cfaa1006-1c83-4215-bd3a-d6be5b8162f3",
   "metadata": {},
   "source": [
    "Now create some points for it to evaluate"
   ]
  },
  {
   "cell_type": "code",
   "execution_count": 3,
   "id": "1e1e42d1-f842-4cb5-a298-723eeb82e1bf",
   "metadata": {},
   "outputs": [
    {
     "name": "stdout",
     "output_type": "stream",
     "text": [
      "torch.Size([10000, 2])\n",
      "torch.Size([10000])\n",
      "torch.Size([10000])\n"
     ]
    }
   ],
   "source": [
    "numInternalCollocationPoints = 10000;\n",
    "\n",
    "points = torch.randn(numInternalCollocationPoints,2,requires_grad=True)\n",
    "\n",
    "dataX = 2*points[:,0]-1\n",
    "dataT = points[:,1]\n",
    "\n",
    "numBlocks = 8\n",
    "fcOutputSize = 20\n",
    "\n",
    "print(points.shape)\n",
    "print(dataX.shape)\n",
    "print(dataT.shape)"
   ]
  },
  {
   "cell_type": "markdown",
   "id": "a80a67aa-61c1-49d9-ae36-33359fe64eb4",
   "metadata": {},
   "source": [
    "Now create a neural net for it"
   ]
  },
  {
   "cell_type": "code",
   "execution_count": 4,
   "id": "564f2d90-3e58-4fc2-b416-a5653afd8851",
   "metadata": {},
   "outputs": [],
   "source": [
    "class Net(nn.Module):\n",
    "    def __init__(self):\n",
    "        super(Net,self).__init__()\n",
    "\n",
    "        self.fc1 = nn.Linear(2, 20)\n",
    "        self.fc2 = nn.Linear(20, 20)\n",
    "        self.fc3 = nn.Linear(20, 20)\n",
    "        self.fc4 = nn.Linear(20, 20)\n",
    "        self.fc5 = nn.Linear(20, 20)\n",
    "        self.fc6 = nn.Linear(20, 20)\n",
    "        self.fc7 = nn.Linear(20, 20)\n",
    "        self.fc8 = nn.Linear(20, 20)\n",
    "        self.fc9 = nn.Linear(20, 1)\n",
    "        self.tanh_n = nn.Tanh()\n",
    "\n",
    "    def forward(self, x):\n",
    "        x = self.fc1(x)\n",
    "        x = self.tanh_n(x)\n",
    "        x = self.fc2(x)\n",
    "        x = self.tanh_n(x)\n",
    "        x = self.fc3(x)\n",
    "        x = self.tanh_n(x)\n",
    "        x = self.fc4(x)\n",
    "        x = self.tanh_n(x)\n",
    "        x = self.fc5(x)\n",
    "        x = self.tanh_n(x)\n",
    "        x = self.fc6(x)\n",
    "        x = self.tanh_n(x)\n",
    "        x = self.fc7(x)\n",
    "        x = self.tanh_n(x)\n",
    "        x = self.fc8(x)\n",
    "        x = self.tanh_n(x)\n",
    "        x = self.fc9(x)\n",
    "        return x"
   ]
  },
  {
   "cell_type": "markdown",
   "id": "38e3cdaf-899e-48c4-95fd-ae20319a8553",
   "metadata": {},
   "source": [
    "Define loss function (PDE)"
   ]
  },
  {
   "cell_type": "code",
   "execution_count": 5,
   "id": "8db4bf2d-261b-439f-922a-9776cddccbaf",
   "metadata": {},
   "outputs": [],
   "source": [
    "def modelLoss(net,X,T,X0,T0,U0):\n",
    "    #Make predictions with the initial conditions.\n",
    "    XT = torch.cat([X,T], dim=1)\n",
    "    U = net.forward(XT)\n",
    "    \n",
    "    #Calculate derivatives with respect to X and T.\n",
    "    X = X.squeeze()\n",
    "    T = T.squeeze()\n",
    "    U = U.squeeze()\n",
    "\n",
    "    #Calculate Jacobian for Ux and Ut\n",
    "    Ux = torch.autograd.grad(outputs=U, inputs=XT, grad_outputs=torch.ones_like(U), create_graph=True)[0][:,0]\n",
    "    Ut = torch.autograd.grad(outputs=U, inputs=XT, grad_outputs=torch.ones_like(U), create_graph=True)[0][:,1]\n",
    "    \n",
    "    #Calculate second-order derivatives with respect to X (equivalent to trace of Jacobian).\n",
    "    #Ux.requires_grad=True\n",
    "    Uxx = torch.autograd.grad(outputs=Ux, inputs=XT, grad_outputs=torch.ones_like(Ux), create_graph=True)[0][:,0]\n",
    "    \n",
    "    #Calculate mseF. Enforce Burger's equation.\n",
    "    f = Ut + torch.mul(Ux,U) - torch.mul(Uxx,(0.01/torch.pi))\n",
    "    mseF = torch.mean(torch.pow(f,2))\n",
    "    \n",
    "    #Calculate mseU. Enforce initial and boundary conditions.\n",
    "    XT0 = torch.cat([X0,T0],dim=1)\n",
    "    U0Pred = net.forward(XT0)\n",
    "    loss_fn = nn.MSELoss()\n",
    "    mseU = loss_fn(U0Pred,U0)\n",
    "    \n",
    "    #Calculated loss to be minimized by combining errors.\n",
    "    loss = mseF + mseU\n",
    "\n",
    "    return loss"
   ]
  },
  {
   "cell_type": "markdown",
   "id": "91d4ec41-5018-4ac8-a7b1-f3e37f68c3a1",
   "metadata": {},
   "source": [
    "Train the model"
   ]
  },
  {
   "cell_type": "code",
   "execution_count": null,
   "id": "140a9b14-3ca9-4587-a520-c26047abf239",
   "metadata": {},
   "outputs": [
    {
     "name": "stdout",
     "output_type": "stream",
     "text": [
      "Epoch: 0, loss=0.24106760323047638\n",
      "Epoch: 10, loss=0.19788353145122528\n",
      "Epoch: 20, loss=0.08875326067209244\n",
      "Epoch: 30, loss=0.044015832245349884\n",
      "Epoch: 40, loss=0.034794196486473083\n",
      "Epoch: 50, loss=0.024264130741357803\n",
      "Epoch: 60, loss=0.019090602174401283\n",
      "Epoch: 70, loss=0.015235023573040962\n",
      "Epoch: 80, loss=0.01397624984383583\n",
      "Epoch: 90, loss=0.013042006641626358\n",
      "Epoch: 100, loss=0.011793728917837143\n",
      "Epoch: 110, loss=0.011008888483047485\n",
      "Epoch: 120, loss=0.010312109254300594\n",
      "Epoch: 130, loss=0.009776119142770767\n",
      "Epoch: 140, loss=0.00944816879928112\n",
      "Epoch: 150, loss=0.009259304031729698\n",
      "Epoch: 160, loss=0.009168694727122784\n",
      "Epoch: 170, loss=0.00897726695984602\n",
      "Epoch: 180, loss=0.00858039315789938\n",
      "Epoch: 190, loss=0.007967885583639145\n",
      "Epoch: 200, loss=0.0077049448154866695\n",
      "Epoch: 210, loss=0.007503747008740902\n",
      "Epoch: 220, loss=0.007340817246586084\n",
      "Epoch: 230, loss=0.007250376045703888\n",
      "Epoch: 240, loss=0.007138576824218035\n",
      "Epoch: 250, loss=0.007024841383099556\n",
      "Epoch: 260, loss=0.006899834144860506\n",
      "Epoch: 270, loss=0.006820894777774811\n",
      "Epoch: 280, loss=0.006762688048183918\n",
      "Epoch: 290, loss=0.00672535365447402\n",
      "Epoch: 300, loss=0.006681977771222591\n",
      "Epoch: 310, loss=0.0066023110412061214\n",
      "Epoch: 320, loss=0.0065598925575613976\n",
      "Epoch: 330, loss=0.006498674396425486\n",
      "Epoch: 340, loss=0.006459738127887249\n",
      "Epoch: 350, loss=0.006412840913981199\n",
      "Epoch: 360, loss=0.006375488825142384\n",
      "Epoch: 370, loss=0.006332243327051401\n",
      "Epoch: 380, loss=0.006287475116550922\n",
      "Epoch: 390, loss=0.006228319369256496\n",
      "Epoch: 400, loss=0.006186044774949551\n",
      "Epoch: 410, loss=0.006152118556201458\n",
      "Epoch: 420, loss=0.0061349086463451385\n",
      "Epoch: 430, loss=0.006111768074333668\n",
      "Epoch: 440, loss=0.006086320616304874\n",
      "Epoch: 450, loss=0.006076631601899862\n",
      "Epoch: 460, loss=0.006063719280064106\n",
      "Epoch: 470, loss=0.006044743582606316\n",
      "Epoch: 480, loss=0.006035835016518831\n",
      "Epoch: 490, loss=0.006027226336300373\n",
      "Epoch: 500, loss=0.00601586140692234\n",
      "Epoch: 510, loss=0.006004601716995239\n",
      "Epoch: 520, loss=0.005987450946122408\n",
      "Epoch: 530, loss=0.0059777372516691685\n",
      "Epoch: 540, loss=0.005970229860395193\n",
      "Epoch: 550, loss=0.005960644688457251\n",
      "Epoch: 560, loss=0.005953580606728792\n",
      "Epoch: 570, loss=0.005945505108684301\n",
      "Epoch: 580, loss=0.005937048699706793\n"
     ]
    }
   ],
   "source": [
    "net = Net()\n",
    "\n",
    "X = dataX.unsqueeze(dim=1)\n",
    "T = dataT.unsqueeze(dim=1)\n",
    "X0_ = X0.permute(1, 0)\n",
    "T0_ = T0.permute(1, 0)\n",
    "U0_ = U0.permute(1, 0)\n",
    "epochs = 1500\n",
    "learn_rate = 0.01\n",
    "\n",
    "optimizer = torch.optim.LBFGS(net.parameters(), learn_rate)\n",
    "epoch = 0\n",
    "def closure():\n",
    "    optimizer.zero_grad()\n",
    "    loss = modelLoss(net, X, T, X0_, T0_, U0_)\n",
    "    loss.backward(retain_graph=True)\n",
    "        \n",
    "    return loss\n",
    "\n",
    "for i in range(epochs):\n",
    "    optimizer.step(closure)\n",
    "\n",
    "    if not (epoch % 10):\n",
    "        loss = closure()\n",
    "        print(f\"Epoch: {epoch}, loss={loss.detach()}\")\n",
    "        \n",
    "    epoch+=1"
   ]
  },
  {
   "cell_type": "code",
   "execution_count": null,
   "id": "f3f3287d-1449-4a55-85f3-71a8982c8834",
   "metadata": {},
   "outputs": [],
   "source": [
    "testLen = 1000\n",
    "\n",
    "TTestVal = 1\n",
    "TTest = torch.tensor([TTestVal for _ in range(testLen)]).unsqueeze(dim=1)\n",
    "XTest = torch.linspace(-1, 1, steps=testLen).unsqueeze(dim=1)\n",
    "XTTest = torch.cat([XTest, TTest], dim=1)\n",
    "\n",
    "UPredTest = net.forward(XTTest)\n",
    "\n",
    "plt.scatter(XTest.detach(), UPredTest.detach())"
   ]
  },
  {
   "cell_type": "code",
   "execution_count": null,
   "id": "c23b1cc1-2010-4f2e-bc58-144b61381070",
   "metadata": {},
   "outputs": [],
   "source": [
    "torch.save(net.state_dict(), \"./MLPBurgers.pt\")"
   ]
  }
 ],
 "metadata": {
  "kernelspec": {
   "display_name": "Python 3 (ipykernel)",
   "language": "python",
   "name": "python3"
  },
  "language_info": {
   "codemirror_mode": {
    "name": "ipython",
    "version": 3
   },
   "file_extension": ".py",
   "mimetype": "text/x-python",
   "name": "python",
   "nbconvert_exporter": "python",
   "pygments_lexer": "ipython3",
   "version": "3.12.5"
  },
  "widgets": {
   "application/vnd.jupyter.widget-state+json": {
    "state": {},
    "version_major": 2,
    "version_minor": 0
   }
  }
 },
 "nbformat": 4,
 "nbformat_minor": 5
}
