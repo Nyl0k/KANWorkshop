{
 "cells": [
  {
   "cell_type": "markdown",
   "id": "a7644e38-39fb-431e-9e91-2eb6e47a5cc5",
   "metadata": {},
   "source": [
    "## Creating a Basic KAN"
   ]
  },
  {
   "cell_type": "markdown",
   "id": "f3720492-f619-4228-9365-af4c0a1746cc",
   "metadata": {},
   "source": [
    "Now that we have linearized single-function evaluation, we can make a proper KAN\n",
    "\n",
    "Reference code taken from https://github.com/pg2455/KAN-Tutorial/blob/main/2_stacked_splines.ipynb\n",
    "\n",
    "Importing a few libraries..."
   ]
  },
  {
   "cell_type": "code",
   "execution_count": 1,
   "id": "807f81ec-547c-486c-92d4-bf8f6d9cb9bf",
   "metadata": {},
   "outputs": [],
   "source": [
    "import matplotlib.pyplot as plt\n",
    "import numpy as np\n",
    "import torch"
   ]
  },
  {
   "cell_type": "markdown",
   "id": "04e6fd62-9cf9-4826-a86d-2fb7a5982a71",
   "metadata": {},
   "source": [
    "First let's make a basic [1,1] KAN"
   ]
  },
  {
   "cell_type": "code",
   "execution_count": 2,
   "id": "a72418bb-777c-494d-9897-a168d43db041",
   "metadata": {},
   "outputs": [],
   "source": [
    "def extend_grid(grid, order):\n",
    "    \n",
    "    n_intervals = grid.shape[-1] - 1\n",
    "    bucket_size = (grid[:, -1] - grid[:, 0]) / n_intervals\n",
    "\n",
    "    #Add control points to grid, add the same number as the order to each side so that \n",
    "    #the interpolation can reference enough points to not lose resolution\n",
    "    for i in range(order):\n",
    "        grid = torch.cat([grid[:, :1] - bucket_size, grid], dim=-1)\n",
    "        grid = torch.cat([grid, grid[:, -1:] + bucket_size], dim=-1)\n",
    "\n",
    "    return grid"
   ]
  },
  {
   "cell_type": "code",
   "execution_count": 9,
   "id": "a51b5a5d-1f56-44d4-a446-23a11390c255",
   "metadata": {},
   "outputs": [],
   "source": [
    "def eval_basis(x_eval, grid, order):\n",
    "    \n",
    "    grid_ = extend_grid(grid, order)\n",
    "    #Adding extra dimensions for KAN training later\n",
    "    grid_ = grid_.unsqueeze(dim=2)\n",
    "    x_eval_ = x_eval.unsqueeze(dim=1)\n",
    "    \n",
    "    #Evaluating Cox-De Boor Recursion\n",
    "    #Construct all bases of an order into a matrix, then move up, rather than explicitly recursing\n",
    "    for i in range(order+1):\n",
    "        if (i == 0):\n",
    "            #Creating a matrix of basis value x_eval, rows are x_eval and columns are functions\n",
    "            #Set bounds to stop it from going off the end\n",
    "            bases = (x_eval_ >= grid_[:, :-1]) * (x_eval_ < grid_[:, 1:]) * 1.0 #Multiply by 1.0 to cast to float rather than bool\n",
    "        else:\n",
    "            #Bounds must shrink as order increases to ensure that adequate references (previous or subsequent nodes) exist\n",
    "            bases1 = (x_eval_ - grid_[:, :-(i+1)]) / (grid_[:, 1:-i] - grid_[:, :-(i+1)]) * bases[:, :-1]\n",
    "            bases2 = (grid_[:, (i+1):] - x_eval_) / (grid_[:, (i+1):] - grid_[:, 1:-i]) * bases[:, 1:]\n",
    "            bases = bases1 + bases2\n",
    "\n",
    "    return bases.transpose(1,2)"
   ]
  },
  {
   "cell_type": "code",
   "execution_count": 13,
   "id": "57ae772c-3c49-4a27-85e9-91791b8c4d9d",
   "metadata": {},
   "outputs": [
    {
     "data": {
      "image/png": "[encoded data removed]",
      "text/plain": [
       "<Figure size 640x480 with 1 Axes>"
      ]
     },
     "metadata": {},
     "output_type": "display_data"
    }
   ],
   "source": [
    "ctrl_pts = 10\n",
    "order = 2\n",
    "val_prct = 0.8\n",
    "learn_rate = 0.1\n",
    "fn = lambda x: torch.sin(torch.pi * torch.exp(x))\n",
    "\n",
    "grid = torch.linspace(-1, 1, ctrl_pts).unsqueeze(dim=0)\n",
    "x_eval = torch.linspace(-1, 1, steps=999).unsqueeze(dim=1)\n",
    "#Create target set, give it some noise to be realistic\n",
    "y_target = fn(x_eval) + 0.1 * torch.rand(x_eval.shape)\n",
    "#Account for grid extension by increasing size by order-1\n",
    "#No least squares this time, the gradient descent takes care of that\n",
    "#Enabling gradient tracking via torch as well\n",
    "coeffs = torch.zeros((1, ctrl_pts+order-1, 1), requires_grad=True)\n",
    "#Establishing scaling parameters\n",
    "base_transform_fn = torch.nn.SiLU()\n",
    "scale_base = torch.nn.Parameter(torch.ones(x_eval.shape[-1])).requires_grad_(True)\n",
    "scale_spline = torch.nn.Parameter(torch.ones(x_eval.shape[-1])).requires_grad_(True)\n",
    "\n",
    "#Data structure for tracking training and validation losses\n",
    "losses = {'train': [], 'test': []}\n",
    "\n",
    "best_loss = np.inf\n",
    "n_no_improvements = 0\n",
    "iters = 0\n",
    "all_xs = []\n",
    "#Thresholds for stopping improvement\n",
    "improvement_th = 200\n",
    "iteration_th = 1e4\n",
    "\n",
    "#Number of points to train with versus test\n",
    "n_train = int(x_eval.shape[0] * 0.8)\n",
    "#Select random indexes to reserve for training to reduce locality effects\n",
    "train_idxs = np.random.randint(x_eval.shape[0], size=n_train)\n",
    "#And get the rest into the test set\n",
    "test_idxs = [i for i in range(x_eval.shape[0]) if i not in train_idxs]\n",
    "x_train = x_eval[train_idxs]\n",
    "x_test = x_eval[test_idxs]\n",
    "y_train = y_target[train_idxs]\n",
    "y_test = y_target[test_idxs]\n",
    "\n",
    "while True:\n",
    "    #Create an initial estimation based on the default coefficients\n",
    "    x = x_train\n",
    "    xs = []\n",
    "    bases_train = eval_basis(x, grid, order)\n",
    "    x_ = torch.einsum('ijk, bij->bk', coeffs, bases_train)\n",
    "    x = (base_transform_fn(x)*scale_base) + (x_*scale_spline)\n",
    "    xs.append(x.detach())\n",
    "    all_xs.append(xs)\n",
    "\n",
    "    #Compute gradients of estimation based on loss function\n",
    "    y_pred_train = x\n",
    "    loss = torch.mean(torch.pow(y_pred_train - y_train, 2))\n",
    "    loss.backward()\n",
    "    losses['train'].append(loss.item())\n",
    "\n",
    "    #Gradient descent step for coefficients + scaling params\n",
    "    #The torch autograd function tracks its gradient all the way to loss function\n",
    "    for params in coeffs + scale_base + scale_spline\n",
    "        params.data = params.data - learn_rate * params.grad\n",
    "        params.grad.zero_()\n",
    "\n",
    "    #Use test set to see how close you are to minimum\n",
    "    with torch.no_grad():\n",
    "        x_v = x_test #v for validation, need something to distinguish it from previous x\n",
    "        bases_test = eval_basis(x_v, grid, order)\n",
    "        x_v_ = torch.einsum('ijk, bij->bk', coeffs, bases_test)\n",
    "        x_v = x_v_\n",
    "        y_pred_test = x_v\n",
    "        test_loss = torch.mean(torch.pow(x_v - y_test, 2))\n",
    "        losses['test'].append(test_loss.item())\n",
    "\n",
    "    #Check if it found a minimum\n",
    "    if best_loss > test_loss.item():\n",
    "        best_loss = test_loss.item()\n",
    "        best_coeffs = coeffs\n",
    "        n_no_improvements = 0\n",
    "    else:\n",
    "        n_no_improvements += 1\n",
    "        if n_no_improvements > improvement_th:\n",
    "            break\n",
    "\n",
    "    iters+=1\n",
    "    if iters >= iteration_th:\n",
    "        break\n",
    "\n",
    "plt.scatter(x_test.tolist(), y_test.tolist(), color='blue')\n",
    "plt.scatter(x_test.tolist(), y_pred_test.tolist(), color=\"orange\")\n",
    "plt.show()"
   ]
  },
  {
   "cell_type": "markdown",
   "id": "e3d8b900-80c5-4428-8e59-cba45b7e41ef",
   "metadata": {},
   "source": [
    "Not bad but it's a bit off, we can add scaling parameters to help"
   ]
  }
 ],
 "metadata": {
  "kernelspec": {
   "display_name": "Python 3 (ipykernel)",
   "language": "python",
   "name": "python3"
  },
  "language_info": {
   "codemirror_mode": {
    "name": "ipython",
    "version": 3
   },
   "file_extension": ".py",
   "mimetype": "text/x-python",
   "name": "python",
   "nbconvert_exporter": "python",
   "pygments_lexer": "ipython3",
   "version": "3.12.5"
  },
  "widgets": {
   "application/vnd.jupyter.widget-state+json": {
    "state": {},
    "version_major": 2,
    "version_minor": 0
   }
  }
 },
 "nbformat": 4,
 "nbformat_minor": 5
}
