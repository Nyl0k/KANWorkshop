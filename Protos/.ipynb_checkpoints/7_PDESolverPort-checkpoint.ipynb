{
 "cells": [
  {
   "cell_type": "markdown",
   "id": "0e1c6d25-a0c5-483c-8c23-262dc7cf557b",
   "metadata": {},
   "source": [
    "## Port of MATLAB PDE solver\n",
    "\n",
    "Trying to see if I can a Burgers' Equation solver to work in Python for later use with KANs\n",
    "\n",
    "Referencing this page https://www.mathworks.com/help/deeplearning/ug/solve-partial-differential-equations-with-lbfgs-method-and-deep-learning.html\n",
    "\n",
    "Importing a few libraries..."
   ]
  },
  {
   "cell_type": "code",
   "execution_count": 1,
   "id": "e8372ef6-3209-475d-8ea5-73656028afdf",
   "metadata": {},
   "outputs": [],
   "source": [
    "import matplotlib.pyplot as plt\n",
    "\n",
    "import torch.autograd.functional as F\n",
    "import torch.nn.functional as Fnn\n",
    "import torch.nn as nn\n",
    "import torch"
   ]
  },
  {
   "cell_type": "markdown",
   "id": "1db5db19-7138-416b-9fe0-a5d21626dde2",
   "metadata": {},
   "source": [
    "First create some basic evaluation points such as boundary conditions"
   ]
  },
  {
   "cell_type": "code",
   "execution_count": 2,
   "id": "98a4f065-ae93-4f39-8e31-5d748d2e9108",
   "metadata": {},
   "outputs": [
    {
     "name": "stdout",
     "output_type": "stream",
     "text": [
      "torch.Size([1, 100]) torch.Size([1, 100]) torch.Size([1, 100])\n"
     ]
    }
   ],
   "source": [
    "#Establish boundary conditions for x, t, u\n",
    "numBoundaryConditionPoints = [25, 25]\n",
    "\n",
    "x0BC1 = -1*torch.ones(1,numBoundaryConditionPoints[0])\n",
    "x0BC2 = torch.ones(1,numBoundaryConditionPoints[1])\n",
    "\n",
    "t0BC1 = torch.linspace(0,1,steps=numBoundaryConditionPoints[0]).reshape(1, -1)\n",
    "t0BC2 = torch.linspace(0,1,steps=numBoundaryConditionPoints[1]).reshape(1, -1)\n",
    "\n",
    "u0BC1 = torch.zeros(1,numBoundaryConditionPoints[0])\n",
    "u0BC2 = torch.zeros(1,numBoundaryConditionPoints[1])\n",
    "\n",
    "#Estabish iniital conditions\n",
    "numInitialConditionPoints  = 50\n",
    "\n",
    "x0IC = torch.linspace(-1,1,steps=numInitialConditionPoints).reshape(1, -1)\n",
    "t0IC = torch.zeros(1,numInitialConditionPoints)\n",
    "u0IC = -torch.sin(torch.pi*x0IC)\n",
    "\n",
    "X0 = torch.cat([x0IC, x0BC1, x0BC2],dim=1)\n",
    "T0 = torch.cat([t0IC, t0BC1, t0BC2],dim=1)\n",
    "U0 = torch.cat([u0IC, u0BC1, u0BC2],dim=1)\n",
    "\n",
    "print(X0.shape, T0.shape, U0.shape)"
   ]
  },
  {
   "cell_type": "markdown",
   "id": "cfaa1006-1c83-4215-bd3a-d6be5b8162f3",
   "metadata": {},
   "source": [
    "Now create some points for it to evaluate"
   ]
  },
  {
   "cell_type": "code",
   "execution_count": 3,
   "id": "1e1e42d1-f842-4cb5-a298-723eeb82e1bf",
   "metadata": {},
   "outputs": [
    {
     "name": "stdout",
     "output_type": "stream",
     "text": [
      "torch.Size([10000, 2])\n",
      "torch.Size([10000])\n",
      "torch.Size([10000])\n"
     ]
    }
   ],
   "source": [
    "numInternalCollocationPoints = 10000;\n",
    "\n",
    "points = torch.randn(numInternalCollocationPoints,2,requires_grad=True)\n",
    "\n",
    "dataX = 2*points[:,0]-1\n",
    "dataT = points[:,1]\n",
    "\n",
    "numBlocks = 8\n",
    "fcOutputSize = 20\n",
    "\n",
    "print(points.shape)\n",
    "print(dataX.shape)\n",
    "print(dataT.shape)"
   ]
  },
  {
   "cell_type": "markdown",
   "id": "a80a67aa-61c1-49d9-ae36-33359fe64eb4",
   "metadata": {},
   "source": [
    "Now create a neural net for it"
   ]
  },
  {
   "cell_type": "code",
   "execution_count": 4,
   "id": "564f2d90-3e58-4fc2-b416-a5653afd8851",
   "metadata": {},
   "outputs": [],
   "source": [
    "class Net(nn.Module):\n",
    "    def __init__(self):\n",
    "        super(Net,self).__init__()\n",
    "\n",
    "        self.fc1 = nn.Linear(2, 20)\n",
    "        self.fc2 = nn.Linear(20, 20)\n",
    "        self.fc3 = nn.Linear(20, 20)\n",
    "        self.fc4 = nn.Linear(20, 20)\n",
    "        self.fc5 = nn.Linear(20, 20)\n",
    "        self.fc6 = nn.Linear(20, 20)\n",
    "        self.fc7 = nn.Linear(20, 20)\n",
    "        self.fc8 = nn.Linear(20, 20)\n",
    "        self.fc9 = nn.Linear(20, 1)\n",
    "        self.tanh_n = nn.Tanh()\n",
    "\n",
    "    def forward(self, x):\n",
    "        x = self.fc1(x)\n",
    "        x = self.tanh_n(x)\n",
    "        x = self.fc2(x)\n",
    "        x = self.tanh_n(x)\n",
    "        x = self.fc3(x)\n",
    "        x = self.tanh_n(x)\n",
    "        x = self.fc4(x)\n",
    "        x = self.tanh_n(x)\n",
    "        x = self.fc5(x)\n",
    "        x = self.tanh_n(x)\n",
    "        x = self.fc6(x)\n",
    "        x = self.tanh_n(x)\n",
    "        x = self.fc7(x)\n",
    "        x = self.tanh_n(x)\n",
    "        x = self.fc8(x)\n",
    "        x = self.tanh_n(x)\n",
    "        x = self.fc9(x)\n",
    "        return x"
   ]
  },
  {
   "cell_type": "markdown",
   "id": "38e3cdaf-899e-48c4-95fd-ae20319a8553",
   "metadata": {},
   "source": [
    "Define loss function (PDE)"
   ]
  },
  {
   "cell_type": "code",
   "execution_count": 5,
   "id": "8db4bf2d-261b-439f-922a-9776cddccbaf",
   "metadata": {},
   "outputs": [],
   "source": [
    "def modelLoss(net,X,T,X0,T0,U0):\n",
    "    #Make predictions with the initial conditions.\n",
    "    XT = torch.cat([X,T], dim=1)\n",
    "    U = net.forward(XT)\n",
    "    \n",
    "    #Calculate derivatives with respect to X and T.\n",
    "    X = X.squeeze()\n",
    "    T = T.squeeze()\n",
    "    U = U.squeeze()\n",
    "\n",
    "    #Calculate Jacobian for Ux and Ut\n",
    "    Ux = torch.autograd.grad(outputs=U, inputs=XT, grad_outputs=torch.ones_like(U), create_graph=True)[0][:,0]\n",
    "    Ut = torch.autograd.grad(outputs=U, inputs=XT, grad_outputs=torch.ones_like(U), create_graph=True)[0][:,1]\n",
    "    \n",
    "    #Calculate second-order derivatives with respect to X (equivalent to trace of Jacobian).\n",
    "    #Ux.requires_grad=True\n",
    "    Uxx = torch.autograd.grad(outputs=Ux, inputs=XT, grad_outputs=torch.ones_like(Ux), create_graph=True)[0][:,0]\n",
    "    \n",
    "    #Calculate mseF. Enforce Burger's equation.\n",
    "    f = Ut + torch.mul(Ux,U) - torch.mul(Uxx,(0.01/torch.pi))\n",
    "    mseF = torch.mean(torch.pow(f,2))\n",
    "    \n",
    "    #Calculate mseU. Enforce initial and boundary conditions.\n",
    "    XT0 = torch.cat([X0,T0],dim=1)\n",
    "    U0Pred = net.forward(XT0)\n",
    "    loss_fn = nn.MSELoss()\n",
    "    mseU = loss_fn(U0Pred,U0)\n",
    "    \n",
    "    #Calculated loss to be minimized by combining errors.\n",
    "    loss = mseF + mseU\n",
    "\n",
    "    return loss"
   ]
  },
  {
   "cell_type": "markdown",
   "id": "91d4ec41-5018-4ac8-a7b1-f3e37f68c3a1",
   "metadata": {},
   "source": [
    "Train the model"
   ]
  },
  {
   "cell_type": "code",
   "execution_count": 11,
   "id": "140a9b14-3ca9-4587-a520-c26047abf239",
   "metadata": {},
   "outputs": [
    {
     "name": "stdout",
     "output_type": "stream",
     "text": [
      "Epoch: 0, loss=0.2490597367286682\n",
      "Epoch: 10, loss=0.18495477735996246\n",
      "Epoch: 20, loss=0.10093576461076736\n",
      "Epoch: 30, loss=0.04772551730275154\n",
      "Epoch: 40, loss=0.039109326899051666\n",
      "Epoch: 50, loss=0.03481128066778183\n",
      "Epoch: 60, loss=0.024948645383119583\n",
      "Epoch: 70, loss=0.015264155343174934\n",
      "Epoch: 80, loss=0.013263815082609653\n",
      "Epoch: 90, loss=0.011892047710716724\n",
      "Epoch: 100, loss=0.01099349558353424\n",
      "Epoch: 110, loss=0.01056471187621355\n",
      "Epoch: 120, loss=0.010141221806406975\n",
      "Epoch: 130, loss=0.00918677169829607\n",
      "Epoch: 140, loss=0.008610960096120834\n",
      "Epoch: 150, loss=0.00808919221162796\n",
      "Epoch: 160, loss=0.007651980500668287\n",
      "Epoch: 170, loss=0.0072883181273937225\n",
      "Epoch: 180, loss=0.007125713862478733\n",
      "Epoch: 190, loss=0.0070282830856740475\n",
      "Epoch: 200, loss=0.006917125545442104\n",
      "Epoch: 210, loss=0.006767321843653917\n",
      "Epoch: 220, loss=0.006570801138877869\n",
      "Epoch: 230, loss=0.006115211173892021\n",
      "Epoch: 240, loss=0.005769576411694288\n",
      "Epoch: 250, loss=0.005621092393994331\n",
      "Epoch: 260, loss=0.005453310441225767\n",
      "Epoch: 270, loss=0.005270624067634344\n",
      "Epoch: 280, loss=0.005122042261064053\n",
      "Epoch: 290, loss=0.004922010004520416\n",
      "Epoch: 300, loss=0.004737820476293564\n",
      "Epoch: 310, loss=0.004627256654202938\n",
      "Epoch: 320, loss=0.004480373114347458\n",
      "Epoch: 330, loss=0.00434943288564682\n",
      "Epoch: 340, loss=0.00428036181256175\n",
      "Epoch: 350, loss=0.004199204500764608\n",
      "Epoch: 360, loss=0.0041132038459181786\n",
      "Epoch: 370, loss=0.004052012227475643\n",
      "Epoch: 380, loss=0.0040085194632411\n",
      "Epoch: 390, loss=0.003967694006860256\n",
      "Epoch: 400, loss=0.003927078563719988\n",
      "Epoch: 410, loss=0.003912652377039194\n",
      "Epoch: 420, loss=0.0038913816679269075\n",
      "Epoch: 430, loss=0.003869397100061178\n",
      "Epoch: 440, loss=0.003837279509752989\n",
      "Epoch: 450, loss=0.0038224118761718273\n",
      "Epoch: 460, loss=0.003796804929152131\n",
      "Epoch: 470, loss=0.00377581175416708\n",
      "Epoch: 480, loss=0.003760275896638632\n",
      "Epoch: 490, loss=0.003739733714610338\n",
      "Epoch: 500, loss=0.0037134976591914892\n",
      "Epoch: 510, loss=0.0036871738266199827\n",
      "Epoch: 520, loss=0.0036457302048802376\n",
      "Epoch: 530, loss=0.003611738793551922\n",
      "Epoch: 540, loss=0.003571727080270648\n",
      "Epoch: 550, loss=0.0035354639403522015\n",
      "Epoch: 560, loss=0.0034985681995749474\n",
      "Epoch: 570, loss=0.0034627148415893316\n",
      "Epoch: 580, loss=0.00343754212372005\n",
      "Epoch: 590, loss=0.0033960314467549324\n",
      "Epoch: 600, loss=0.0033602553885430098\n",
      "Epoch: 610, loss=0.003337511094287038\n",
      "Epoch: 620, loss=0.00330923730507493\n",
      "Epoch: 630, loss=0.0032817055471241474\n",
      "Epoch: 640, loss=0.003247558604925871\n",
      "Epoch: 650, loss=0.0031947132665663958\n",
      "Epoch: 660, loss=0.0031582037918269634\n",
      "Epoch: 670, loss=0.0031169182620942593\n",
      "Epoch: 680, loss=0.0030653406865894794\n",
      "Epoch: 690, loss=0.0030116753187030554\n",
      "Epoch: 700, loss=0.002946573542430997\n",
      "Epoch: 710, loss=0.0028034227434545755\n",
      "Epoch: 720, loss=0.002612543758004904\n",
      "Epoch: 730, loss=0.0024151704274117947\n",
      "Epoch: 740, loss=0.0023031109012663364\n",
      "Epoch: 750, loss=0.0021553037222474813\n",
      "Epoch: 760, loss=0.0020735543221235275\n",
      "Epoch: 770, loss=0.001992948120459914\n",
      "Epoch: 780, loss=0.0019199231173843145\n",
      "Epoch: 790, loss=0.0018687674310058355\n",
      "Epoch: 800, loss=0.0018071556696668267\n",
      "Epoch: 810, loss=0.001754216500557959\n",
      "Epoch: 820, loss=0.0016655324725434184\n",
      "Epoch: 830, loss=0.0015588640235364437\n",
      "Epoch: 840, loss=0.0014191698282957077\n",
      "Epoch: 850, loss=0.0012820446863770485\n",
      "Epoch: 860, loss=0.0011998915579169989\n",
      "Epoch: 870, loss=0.001127998111769557\n",
      "Epoch: 880, loss=0.0010716690449044108\n",
      "Epoch: 890, loss=0.001032134983688593\n",
      "Epoch: 900, loss=0.000996922142803669\n",
      "Epoch: 910, loss=0.0009549414971843362\n",
      "Epoch: 920, loss=0.0009055659174919128\n",
      "Epoch: 930, loss=0.0008798815542832017\n",
      "Epoch: 940, loss=0.0008571536745876074\n",
      "Epoch: 950, loss=0.0008288606186397374\n",
      "Epoch: 960, loss=0.0008003573166206479\n",
      "Epoch: 970, loss=0.0007702248985879123\n",
      "Epoch: 980, loss=0.0007550163427367806\n",
      "Epoch: 990, loss=0.0007337415590882301\n",
      "Epoch: 1000, loss=0.0007175217615440488\n",
      "Epoch: 1010, loss=0.0006959877791814506\n",
      "Epoch: 1020, loss=0.0006754990317858756\n",
      "Epoch: 1030, loss=0.0006541399052366614\n",
      "Epoch: 1040, loss=0.0006415787502191961\n",
      "Epoch: 1050, loss=0.0006269090226851404\n",
      "Epoch: 1060, loss=0.0006089456146582961\n",
      "Epoch: 1070, loss=0.0005827368586324155\n",
      "Epoch: 1080, loss=0.0005638564471155405\n",
      "Epoch: 1090, loss=0.0005470601026900113\n",
      "Epoch: 1100, loss=0.0005326736136339605\n",
      "Epoch: 1110, loss=0.0005202573956921697\n",
      "Epoch: 1120, loss=0.000511664489749819\n",
      "Epoch: 1130, loss=0.0005030168686062098\n",
      "Epoch: 1140, loss=0.0004946772824041545\n",
      "Epoch: 1150, loss=0.0004877182946074754\n",
      "Epoch: 1160, loss=0.0004813782579731196\n",
      "Epoch: 1170, loss=0.00047760034794919193\n",
      "Epoch: 1180, loss=0.00047305849147960544\n",
      "Epoch: 1190, loss=0.0004693447845056653\n",
      "Epoch: 1200, loss=0.0004657400422729552\n",
      "Epoch: 1210, loss=0.00045797956408932805\n",
      "Epoch: 1220, loss=0.0004491655563469976\n",
      "Epoch: 1230, loss=0.00044556695502251387\n",
      "Epoch: 1240, loss=0.0004381568287499249\n",
      "Epoch: 1250, loss=0.0004346886998973787\n",
      "Epoch: 1260, loss=0.00043100593029521406\n",
      "Epoch: 1270, loss=0.0004273708909749985\n",
      "Epoch: 1280, loss=0.00042424025014042854\n",
      "Epoch: 1290, loss=0.00042371873860247433\n",
      "Epoch: 1300, loss=0.000423702149419114\n",
      "Epoch: 1310, loss=0.0004236802342347801\n",
      "Epoch: 1320, loss=0.0004236646927893162\n",
      "Epoch: 1330, loss=0.00042365770787000656\n",
      "Epoch: 1340, loss=0.00042365904664620757\n",
      "Epoch: 1350, loss=0.00042366364505141973\n",
      "Epoch: 1360, loss=0.0004236743552610278\n",
      "Epoch: 1370, loss=0.0004236777313053608\n",
      "Epoch: 1380, loss=0.00042367694550193846\n",
      "Epoch: 1390, loss=0.00042366981506347656\n",
      "Epoch: 1400, loss=0.0004236594832036644\n",
      "Epoch: 1410, loss=0.0004236547392793\n",
      "Epoch: 1420, loss=0.0004236512759234756\n",
      "Epoch: 1430, loss=0.0004236491222400218\n",
      "Epoch: 1440, loss=0.0004236495587974787\n",
      "Epoch: 1450, loss=0.0004236483946442604\n",
      "Epoch: 1460, loss=0.0004236526438035071\n",
      "Epoch: 1470, loss=0.0004236618406139314\n",
      "Epoch: 1480, loss=0.0004236650129314512\n",
      "Epoch: 1490, loss=0.00042366524576209486\n"
     ]
    }
   ],
   "source": [
    "net = Net()\n",
    "\n",
    "X = dataX.unsqueeze(dim=1)\n",
    "T = dataT.unsqueeze(dim=1)\n",
    "X0_ = X0.permute(1, 0)\n",
    "T0_ = T0.permute(1, 0)\n",
    "U0_ = U0.permute(1, 0)\n",
    "epochs = 1500\n",
    "learn_rate = 0.01\n",
    "\n",
    "optimizer = torch.optim.LBFGS(net.parameters(), learn_rate)\n",
    "epoch = 0\n",
    "def closure():\n",
    "    optimizer.zero_grad()\n",
    "    loss = modelLoss(net, X, T, X0_, T0_, U0_)\n",
    "    loss.backward(retain_graph=True)\n",
    "        \n",
    "    return loss\n",
    "\n",
    "for i in range(epochs):\n",
    "    optimizer.step(closure)\n",
    "\n",
    "    if not (epoch % 10):\n",
    "        loss = closure()\n",
    "        print(f\"Epoch: {epoch}, loss={loss.detach()}\")\n",
    "        \n",
    "    epoch+=1"
   ]
  },
  {
   "cell_type": "code",
   "execution_count": 22,
   "id": "f3f3287d-1449-4a55-85f3-71a8982c8834",
   "metadata": {},
   "outputs": [
    {
     "data": {
      "text/plain": [
       "<matplotlib.collections.PathCollection at 0x16524cd8aa0>"
      ]
     },
     "execution_count": 22,
     "metadata": {},
     "output_type": "execute_result"
    },
    {
     "data": {
      "image/png": "[encoded data removed]",
      "text/plain": [
       "<Figure size 640x480 with 1 Axes>"
      ]
     },
     "metadata": {},
     "output_type": "display_data"
    }
   ],
   "source": [
    "testLen = 1000\n",
    "\n",
    "TTestVal = 1\n",
    "TTest = torch.tensor([TTestVal for _ in range(testLen)]).unsqueeze(dim=1)\n",
    "XTest = torch.linspace(-1, 1, steps=testLen).unsqueeze(dim=1)\n",
    "XTTest = torch.cat([XTest, TTest], dim=1)\n",
    "\n",
    "UPredTest = net.forward(XTTest)\n",
    "\n",
    "plt.scatter(XTest.detach(), UPredTest.detach())"
   ]
  },
  {
   "cell_type": "code",
   "execution_count": null,
   "id": "c23b1cc1-2010-4f2e-bc58-144b61381070",
   "metadata": {},
   "outputs": [],
   "source": []
  }
 ],
 "metadata": {
  "kernelspec": {
   "display_name": "Python 3 (ipykernel)",
   "language": "python",
   "name": "python3"
  },
  "language_info": {
   "codemirror_mode": {
    "name": "ipython",
    "version": 3
   },
   "file_extension": ".py",
   "mimetype": "text/x-python",
   "name": "python",
   "nbconvert_exporter": "python",
   "pygments_lexer": "ipython3",
   "version": "3.12.5"
  },
  "widgets": {
   "application/vnd.jupyter.widget-state+json": {
    "state": {},
    "version_major": 2,
    "version_minor": 0
   }
  }
 },
 "nbformat": 4,
 "nbformat_minor": 5
}
