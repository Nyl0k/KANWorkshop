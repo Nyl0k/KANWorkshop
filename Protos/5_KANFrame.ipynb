{
 "cells": [
  {
   "cell_type": "markdown",
   "id": "5e6277c6-2cb3-49e9-8894-0183cda20181",
   "metadata": {},
   "source": [
    "## Framework for KANs\n",
    "\n",
    "Putting a few of the previous notebooks together into something more flexible\n",
    "\n",
    "Importing a few libaries..."
   ]
  },
  {
   "cell_type": "code",
   "execution_count": 11,
   "id": "fd88b691-5593-435a-b4d9-8bd6a9dfef69",
   "metadata": {},
   "outputs": [],
   "source": [
    "import matplotlib.pyplot as plt\n",
    "import numpy as np\n",
    "import torch.nn as nn\n",
    "import torch"
   ]
  },
  {
   "cell_type": "code",
   "execution_count": 13,
   "id": "38363038-9e1a-47b0-8f39-44b601275e65",
   "metadata": {},
   "outputs": [],
   "source": [
    "class ChebyKANLayer(nn.Module):\n",
    "\n",
    "    def __init__(self, dim_in, dim_out, order):\n",
    "        super(ChebyKANLayer, self).__init__()\n",
    "        self.dim_in = dim_in\n",
    "        self.dim_out = dim_out\n",
    "        self.order = order\n",
    "\n",
    "        self.coeffs = nn.Parameter(torch.empty(self.dim_in, self.dim_out, self.order+1))\n",
    "        nn.init.normal_(self.coeffs, mean=0.0, std=1/(dim_in * (order + 1)))\n",
    "\n",
    "    def forward(self, x_in):\n",
    "\n",
    "        x_in = torch.reshape(x_in, (-1, self.dim_in))\n",
    "        x_in = torch.tanh(x_in)\n",
    "\n",
    "        bases = torch.ones(x_in.shape[0], self.dim_in, self.order+1, device=x_in.device)\n",
    "\n",
    "        if self.order > 0:\n",
    "            bases[:, :, 1] = x_in\n",
    "        \n",
    "        for i in range(2, self.order+1):\n",
    "            bases[:, :, i] = 2 * x_in * bases[:, :, i-1].clone() - bases[:, :, i-2].clone()\n",
    "\n",
    "        y_out = torch.einsum('bij, ioj -> bo', bases, self.coeffs)\n",
    "        y_out = y_out.view(-1, self.dim_out)\n",
    "        return y_out"
   ]
  },
  {
   "cell_type": "code",
   "execution_count": 14,
   "id": "35c382bf-d18b-4e08-8a86-23829980a87f",
   "metadata": {},
   "outputs": [],
   "source": [
    "class KAN(nn.Module):\n",
    "    def __init__(self):\n",
    "        super(KAN, self).__init__()\n",
    "        self.layers = []\n",
    "\n",
    "    def add_layer(self, layer):\n",
    "        self.layers.append(layer)\n",
    "        self.layerMod = nn.ModuleList(self.layers)\n",
    "\n",
    "    def forward(self, x_in):\n",
    "        y_pred = self.layers[0].forward(x_in)\n",
    "        for layer in self.layers[1:]:\n",
    "            y_pred = layer.forward(y_pred)\n",
    "        return y_pred\n",
    "\n",
    "    def train(self, x_in, y_target, learn_rate, epochs, prnt=False):\n",
    "        loss_fn = nn.MSELoss()\n",
    "        optimizer = torch.optim.Adam(self.parameters(), learn_rate)\n",
    "\n",
    "        for i in range(epochs):\n",
    "            optimizer.zero_grad()\n",
    "            y_pred = self.forward(x_in)\n",
    "            loss = loss_fn(y_pred, y_target)\n",
    "            loss.backward()\n",
    "            optimizer.step()\n",
    "\n",
    "            if prnt and not (i % 100):\n",
    "                print(f\"Epoch: {i}, Loss: {loss}\")\n",
    "            \n",
    "        return y_pred"
   ]
  },
  {
   "cell_type": "code",
   "execution_count": 15,
   "id": "1ddb75d8-f953-43f8-b9de-6acf81889167",
   "metadata": {},
   "outputs": [
    {
     "name": "stdout",
     "output_type": "stream",
     "text": [
      "Epoch: 0, Loss: 0.7096877098083496\n",
      "Epoch: 100, Loss: 0.00012425660679582506\n",
      "Epoch: 200, Loss: 4.1487674025120214e-05\n",
      "Epoch: 300, Loss: 2.129345557477791e-05\n",
      "Epoch: 400, Loss: 1.4114330951997545e-05\n",
      "Epoch: 500, Loss: 1.0425902473798487e-05\n",
      "Epoch: 600, Loss: 8.238492227974348e-06\n",
      "Epoch: 700, Loss: 6.821457191108493e-06\n",
      "Epoch: 800, Loss: 5.81782614972326e-06\n",
      "Epoch: 900, Loss: 5.044293175160419e-06\n"
     ]
    },
    {
     "data": {
      "text/plain": [
       "<matplotlib.collections.PathCollection at 0x27251a4a450>"
      ]
     },
     "execution_count": 15,
     "metadata": {},
     "output_type": "execute_result"
    },
    {
     "data": {
      "image/png": "[encoded data removed]",
      "text/plain": [
       "<Figure size 640x480 with 1 Axes>"
      ]
     },
     "metadata": {},
     "output_type": "display_data"
    }
   ],
   "source": [
    "target_fn = lambda x: torch.sin(torch.pi * torch.exp(x))\n",
    "\n",
    "x_train = torch.linspace(-1, 1, steps=1000).unsqueeze(1)\n",
    "y_train = target_fn(x_train.detach().clone())\n",
    "\n",
    "learn_rate = 0.01\n",
    "\n",
    "model = KAN()\n",
    "model.add_layer(ChebyKANLayer(1, 8, 8))\n",
    "model.add_layer(ChebyKANLayer(8, 1, 8))\n",
    "\n",
    "y_pred = model.train(x_train, y_train, learn_rate, 1000, prnt=True)\n",
    "\n",
    "plt.scatter(x_train, y_train)\n",
    "plt.scatter(x_train, y_pred.detach())"
   ]
  },
  {
   "cell_type": "code",
   "execution_count": null,
   "id": "cbd865bd-7872-418e-9f33-6cd82bec4e1c",
   "metadata": {},
   "outputs": [],
   "source": []
  }
 ],
 "metadata": {
  "kernelspec": {
   "display_name": "Python 3 (ipykernel)",
   "language": "python",
   "name": "python3"
  },
  "language_info": {
   "codemirror_mode": {
    "name": "ipython",
    "version": 3
   },
   "file_extension": ".py",
   "mimetype": "text/x-python",
   "name": "python",
   "nbconvert_exporter": "python",
   "pygments_lexer": "ipython3",
   "version": "3.12.5"
  },
  "widgets": {
   "application/vnd.jupyter.widget-state+json": {
    "state": {},
    "version_major": 2,
    "version_minor": 0
   }
  }
 },
 "nbformat": 4,
 "nbformat_minor": 5
}
