{
 "cells": [
  {
   "cell_type": "markdown",
   "id": "16dc85b1-307b-4b67-b982-8ed26bcb7ee7",
   "metadata": {},
   "source": [
    "## Optimization playground\n",
    "\n",
    "Something to try and optimize a KAN for a mulitvariate function\n",
    "\n",
    "Importing a few libraries..."
   ]
  },
  {
   "cell_type": "code",
   "execution_count": 1,
   "id": "03f43da9-04b0-409f-8abd-335419b111f5",
   "metadata": {},
   "outputs": [],
   "source": [
    "import matplotlib.pyplot as plt\n",
    "import numpy as np\n",
    "import torch.nn as nn\n",
    "import torch"
   ]
  },
  {
   "cell_type": "code",
   "execution_count": 2,
   "id": "4006bfc4-bc12-4ae9-a597-b1480c71a075",
   "metadata": {},
   "outputs": [],
   "source": [
    "class ChebyKANLayer(nn.Module):\n",
    "\n",
    "    def __init__(self, dim_in, dim_out, order):\n",
    "        super(ChebyKANLayer, self).__init__()\n",
    "        self.dim_in = dim_in\n",
    "        self.dim_out = dim_out\n",
    "        self.order = order\n",
    "\n",
    "        self.coeffs = nn.Parameter(torch.empty(self.dim_in, self.dim_out, self.order+1))\n",
    "        nn.init.normal_(self.coeffs, mean=0.0, std=1/(dim_in * (order + 1)))\n",
    "\n",
    "    def forward(self, x_in):\n",
    "\n",
    "        x_in = torch.reshape(x_in, (-1, self.dim_in))\n",
    "        x_in = torch.tanh(x_in)\n",
    "\n",
    "        bases = torch.ones(x_in.shape[0], self.dim_in, self.order+1, device=x_in.device)\n",
    "\n",
    "        if self.order > 0:\n",
    "            bases[:, :, 1] = x_in\n",
    "        \n",
    "        for i in range(2, self.order+1):\n",
    "            bases[:, :, i] = 2 * x_in * bases[:, :, i-1].clone() - bases[:, :, i-2].clone()\n",
    "\n",
    "        y_out = torch.einsum('bij, ioj -> bo', bases, self.coeffs)\n",
    "        y_out = y_out.view(-1, self.dim_out)\n",
    "        return y_out"
   ]
  },
  {
   "cell_type": "code",
   "execution_count": 43,
   "id": "bc38cfdb-9b36-4a85-a76d-8f6688aaa9f8",
   "metadata": {},
   "outputs": [],
   "source": [
    "class KAN(nn.Module):\n",
    "    def __init__(self):\n",
    "        super(KAN, self).__init__()\n",
    "        self.layers = []\n",
    "        self.best_coeffs = []\n",
    "\n",
    "    def add_layer(self, layer):\n",
    "        self.layers.append(layer)\n",
    "        self.layerMod = nn.ModuleList(self.layers)\n",
    "\n",
    "    def forward(self, x_in):\n",
    "        y_pred = self.layers[0].forward(x_in)\n",
    "        for layer in self.layers[1:]:\n",
    "            y_pred = layer.forward(y_pred)\n",
    "        return y_pred\n",
    "\n",
    "    def train(self, x_in, y_target, learn_rate, epochs, prnt=False):\n",
    "        loss_fn = nn.MSELoss()\n",
    "        optimizer = torch.optim.Adam(self.parameters(), learn_rate)\n",
    "        best_loss = np.inf\n",
    "\n",
    "        for i in range(epochs):\n",
    "            optimizer.zero_grad()\n",
    "            y_pred = self.forward(x_in)\n",
    "            loss = loss_fn(y_pred, y_target)\n",
    "\n",
    "            if (loss.detach() < best_loss):\n",
    "                best_loss = loss.detach()\n",
    "                self.best_coeffs = [layer.coeffs for layer in self.layers]\n",
    "            \n",
    "            loss.backward()\n",
    "            optimizer.step()\n",
    "\n",
    "            if prnt and not (i % 100):\n",
    "                print(f\"Epoch: {i}, Loss: {loss}\")\n",
    "            \n",
    "        for i, layer in enumerate(self.layers):\n",
    "            layer.coeffs = self.best_coeffs[i]\n",
    "\n",
    "        if (prnt):\n",
    "            print(f\"Training complete, best loss = {best_loss}\")"
   ]
  },
  {
   "cell_type": "code",
   "execution_count": 44,
   "id": "703b7f38-2a00-4d6d-82b3-ab5365405307",
   "metadata": {},
   "outputs": [
    {
     "name": "stdout",
     "output_type": "stream",
     "text": [
      "Epoch: 0, Loss: 0.401570588350296\n",
      "Epoch: 100, Loss: 0.00407611345872283\n",
      "Epoch: 200, Loss: 0.0013517929473891854\n",
      "Epoch: 300, Loss: 9.917444549500942e-05\n",
      "Epoch: 400, Loss: 0.0002658458543010056\n",
      "Epoch: 500, Loss: 3.987685340689495e-05\n",
      "Epoch: 600, Loss: 2.262530142616015e-05\n",
      "Epoch: 700, Loss: 0.0003760546096600592\n",
      "Epoch: 800, Loss: 0.00023832630540709943\n",
      "Epoch: 900, Loss: 1.3815755664836615e-05\n",
      "Training complete, best loss = 7.4402573773113545e-06\n",
      "Prediction: tensor([[0.9774]])\n"
     ]
    }
   ],
   "source": [
    "target_fn = lambda T: torch.sin(torch.pi*(T[..., 0])) * torch.sin(torch.pi*(T[..., 1]))\n",
    "coord_side = 1000\n",
    "\n",
    "x1s = torch.linspace(-1, 1, steps=coord_side).unsqueeze(1)\n",
    "x2s = torch.linspace(-1, 1, steps=coord_side).unsqueeze(1)\n",
    "\n",
    "x_eval = torch.stack((x1s, x2s), dim=-1)\n",
    "y_target = target_fn(x_eval.detach().clone())\n",
    "\n",
    "# test and train split\n",
    "n_training = int(x_eval.shape[0] * 0.8)\n",
    "training_idxs = np.random.randint(x_eval.shape[0], size=n_training)\n",
    "test_idxs = [i for i in range(x_eval.shape[0]) if i not in training_idxs]\n",
    "x_train = x_eval[training_idxs]\n",
    "x_test = x_eval[test_idxs]\n",
    "y_train = y_target[training_idxs]\n",
    "y_test = y_target[test_idxs]\n",
    "\n",
    "learn_rate = 0.1\n",
    "\n",
    "model = KAN()\n",
    "model.add_layer(ChebyKANLayer(2, 8, 8))\n",
    "model.add_layer(ChebyKANLayer(8, 1, 8))\n",
    "\n",
    "model.train(x_train, y_train, learn_rate, 1000, prnt=True)\n",
    "\n",
    "loss_fn = nn.MSELoss()\n",
    "\n",
    "x1_check = 0.4\n",
    "x2_check = 0.3\n",
    "check_vec = torch.tensor([x1_check, x2_check]).reshape(1, 1, -1)\n",
    "pred_acc = 0\n",
    "avg_int = 100\n",
    "for i in range(avg_int):\n",
    "    pred_acc+= model.forward(check_vec).detach().item()\n",
    "pred_acc/=avg_int\n",
    "print(f\"Prediction: {check_pred.detach()}\")"
   ]
  },
  {
   "cell_type": "code",
   "execution_count": null,
   "id": "430fa4ea-fea2-4ed3-8bbb-ef3021f90fa4",
   "metadata": {},
   "outputs": [],
   "source": []
  }
 ],
 "metadata": {
  "kernelspec": {
   "display_name": "Python 3 (ipykernel)",
   "language": "python",
   "name": "python3"
  },
  "language_info": {
   "codemirror_mode": {
    "name": "ipython",
    "version": 3
   },
   "file_extension": ".py",
   "mimetype": "text/x-python",
   "name": "python",
   "nbconvert_exporter": "python",
   "pygments_lexer": "ipython3",
   "version": "3.12.5"
  },
  "widgets": {
   "application/vnd.jupyter.widget-state+json": {
    "state": {},
    "version_major": 2,
    "version_minor": 0
   }
  }
 },
 "nbformat": 4,
 "nbformat_minor": 5
}
